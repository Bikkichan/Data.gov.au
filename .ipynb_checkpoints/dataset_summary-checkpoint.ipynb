{
 "cells": [
  {
   "cell_type": "code",
   "execution_count": 157,
   "metadata": {},
   "outputs": [],
   "source": [
    "import fnmatch\n",
    "import os\n",
    "\n",
    "import numpy as np\n",
    "import pandas as pd\n",
    "\n",
    "import matplotlib.pyplot as plt\n",
    "import seaborn as sns\n",
    "\n",
    "plt.style.use('seaborn-muted')\n",
    "%matplotlib inline"
   ]
  },
  {
   "cell_type": "code",
   "execution_count": 158,
   "metadata": {},
   "outputs": [],
   "source": [
    "plt.rcParams['axes.labelsize'] = 15\n",
    "plt.rcParams['axes.labelweight'] = 'bold'\n",
    "plt.rcParams['axes.titlesize'] = 16\n",
    "plt.rcParams['xtick.labelsize'] = 14\n",
    "plt.rcParams['ytick.labelsize'] = 14"
   ]
  },
  {
   "cell_type": "code",
   "execution_count": 183,
   "metadata": {
    "hide_input": false,
    "scrolled": true
   },
   "outputs": [],
   "source": [
    "#plt.style.available"
   ]
  },
  {
   "cell_type": "markdown",
   "metadata": {},
   "source": [
    "# Summary"
   ]
  },
  {
   "cell_type": "markdown",
   "metadata": {},
   "source": [
    "1) Breakdown data.gov.au datasets based on the following criteria: \n",
    "- Dataset Publisher *\n",
    "- Dataset Portal\n",
    "- Dataset area of interest (Jurisdiction) \n",
    "- Dataset topic (Tags)\n",
    "- dataset size (number of Resources / size of Resources) *\n",
    "\n",
    "2) Determine top 200 datasets\n",
    "- based on variety of breakdown criteria\n",
    "    - 5 criteria"
   ]
  },
  {
   "cell_type": "markdown",
   "metadata": {},
   "source": [
    "# Import files"
   ]
  },
  {
   "cell_type": "code",
   "execution_count": 160,
   "metadata": {},
   "outputs": [],
   "source": [
    "# set folder for assets\n",
    "folder = './assets/'"
   ]
  },
  {
   "cell_type": "code",
   "execution_count": 161,
   "metadata": {},
   "outputs": [],
   "source": [
    "# get file names and file locations - add to list\n",
    "file_loc = [file for file in os.listdir(folder)]        \n",
    "file_name = [file.split('_')[0] for file in os.listdir(folder)]"
   ]
  },
  {
   "cell_type": "markdown",
   "metadata": {},
   "source": [
    "create dictionary of dataframes for files"
   ]
  },
  {
   "cell_type": "code",
   "execution_count": 162,
   "metadata": {},
   "outputs": [],
   "source": [
    "# create dictionary of dataframes for files\n",
    "# remove any columns with Unnamed in the name\n",
    "# name dictionary entry after file name\n",
    "df_dict = {}\n",
    "for file in zip(file_name, file_loc):\n",
    "    df = pd.DataFrame(pd.read_csv(folder + file[1], engine='python'))\n",
    "    cols = [c for c in df.columns if 'Unnamed:' in c]\n",
    "    df.drop(cols, axis=1, inplace=True)\n",
    "    df_dict[file[0]] = df"
   ]
  },
  {
   "cell_type": "code",
   "execution_count": 163,
   "metadata": {
    "hide_input": true
   },
   "outputs": [
    {
     "name": "stdout",
     "output_type": "stream",
     "text": [
      "df_dict type: <class 'dict'>\n"
     ]
    }
   ],
   "source": [
    "print('df_dict type: {}'.format(type(df_dict)))"
   ]
  },
  {
   "cell_type": "markdown",
   "metadata": {},
   "source": [
    "show dictionary key names and file names - should match"
   ]
  },
  {
   "cell_type": "code",
   "execution_count": 164,
   "metadata": {},
   "outputs": [
    {
     "name": "stdout",
     "output_type": "stream",
     "text": [
      "Dictionary keys: ['final', 'jur', 'port', 'pub', 'resource', 'tag', 'title']\n",
      "File names: ['final', 'jur', 'port', 'pub', 'resource', 'tag', 'title']\n",
      "match, match, match, match, match, match, match, "
     ]
    }
   ],
   "source": [
    "# show dictionary key names and file names - should match\n",
    "print('Dictionary keys: {}\\nFile names: {}'.format([x for x in df_dict.keys()], file_name))\n",
    "for x in zip(df_dict.keys(), file_name):\n",
    "    if x[0] == x[1]:\n",
    "        print('match',end=', ')\n",
    "    else:\n",
    "        print('no match', end=',')"
   ]
  },
  {
   "cell_type": "markdown",
   "metadata": {},
   "source": [
    "### Data cleaning - Resource types"
   ]
  },
  {
   "cell_type": "markdown",
   "metadata": {
    "hide_input": false
   },
   "source": [
    "Edit resource types"
   ]
  },
  {
   "cell_type": "code",
   "execution_count": 165,
   "metadata": {
    "scrolled": false
   },
   "outputs": [],
   "source": [
    "# Output list of resource types for editing\n",
    "with open('resource_type_list_2.txt', 'w') as f:\n",
    "    [print('{},'.format(x), file=f) for x in df_dict['final'][df_dict['final']['Link_type']=='Resource']['To_name'].unique()]"
   ]
  },
  {
   "cell_type": "code",
   "execution_count": 166,
   "metadata": {
    "hide_input": true,
    "scrolled": true
   },
   "outputs": [],
   "source": [
    "# Remove file types from dataframe\n",
    "res_type_list  = open('resource_type_list.txt','r') \n",
    "res_type_list = [line.split(',')[0] for line in res_type_list]\n",
    "\n",
    "res_type_df = df_dict['final'][df_dict['final']['To_name'].isin(res_type_list)]"
   ]
  },
  {
   "cell_type": "code",
   "execution_count": 167,
   "metadata": {},
   "outputs": [],
   "source": [
    "# Output list of resource types for rename\n",
    "with open('resource_type_dict.txt', 'w') as f:\n",
    "    [print(\"'{}':'',\".format(x), file=f) for x in res_type_df[res_type_df['Link_type']=='Resource']['To_name'].unique()]"
   ]
  },
  {
   "cell_type": "code",
   "execution_count": 168,
   "metadata": {
    "hide_input": true
   },
   "outputs": [],
   "source": [
    "rename_dict = {'HTML':'HTML','PDF':'PDF','SHP':'SHP','WMS':'WMS','WFS':'WFS','GeoJSON':'GeoJSON','Esri REST':'ESRI FILE','CSV':'CSV',\n",
    "               'KML':'KML','ZIP':'ZIP','WCS':'WCS','XLS':'XLSX','excel (.xlsx)':'XLSX','.csv':'CSV','PNG':'PNG','esri shape and layer files':'ESRI FILE',\n",
    "               'csv-geo-au':'CSV','.tif':'TIFF','audio/basic':'AUDIO','shape file .shp':'SHP','XLSX':'XLSX','zip (csv)':'CSV','arcgrid':'ARCGRID',\n",
    "               'portable document format':'PDF','XML':'XML','JSON':'JSON','plain':'plain','.docx':'DOCX','rtf':'RTF','CSV-GEO-AU':'CSV',\n",
    "               'TSV':'TSV','excel (xlsx)':'XLSX','OGC WMS':'OGC WMS','OGC WFS':'OGC WFS','marcxml':'MARCXML','modsxml':'MODSXML',\n",
    "               'HTTPS':'HTTP','microsoft excel 2007':'XLSX','TXT':'TXT','RSS':'RSS','DOCX':'DOC','KMZ':'KMZ','.pdf':'PDF','.xlsx':'XLSF',\n",
    "               'meta/void':'META','RDF':'RDF','api/sparql':'API','Portable Document Format':'PDF','Microsoft Excel 2007':'XLSX',\n",
    "               'WMS & WFS':'WMS & WFS','ftp site with zipped esri file geodabases':'ESRI FILE','microsoft excel':'XLSX','shz':'SHZ',\n",
    "               'zip (shp)':'SHP','shape':'SHP','GDB':'GDB','sld':'SLD','ArcGrid':'ARCGRID','wms & wfs':'WMS & WFS','polygon package':'POLY',\n",
    "               'geotiff':'GEOTIFF','word':'WORD','SLD':'SLD','zipped esri file geodatabase':'ESRI FILE','xsd':'XSD','Feature Access':'Feature Access',\n",
    "               'accdb':'ACCDB','ASC':'ASC','PDF & XLSX':'PDF & XLSX','RTF':'RTF','wmf & wfs':'WMS & WFS','bz2':'BZ2','text/calendar':'TXT',\n",
    "               'JPEG':'JPG','Zipped XSLX':'XSLX','.CSV':'CSV','DOC':'DOC','.doc':'DOC','TAB':'TAB','HTTP':'HTTP','map viewer':'map viewer',\n",
    "               '.sav':'SAV','csw':'CSW','Home Page':'Home Page','Map portal':'Map portal','MapInfo Table':'MapInfo Table','MapInfo table':'MapInfo Table',\n",
    "               'tab':'TAB','ZIP (PDF)':'PDF','excel (xls)':'XLSX','zip (TAB)':'TAB','zip (SHP)':'SHP','.txt':'TXT','spss':'SPSS',\n",
    "               'sav':'SAV','.XLSX':'XLSX','text':'TXT','sos':'SOS','ArcGIS REST WMS WFS':'WMS & WFS','ArcGIS REST  WMS  WFS':'WMS & WFS',\n",
    "               'REST':'REST','API':'API','Swagger':'Swagger','application/rtf':'RTF','ttl':'TTL'}"
   ]
  },
  {
   "cell_type": "code",
   "execution_count": 169,
   "metadata": {
    "scrolled": false
   },
   "outputs": [
    {
     "name": "stdout",
     "output_type": "stream",
     "text": [
      "Starting # of Rows: 61416\n",
      "Rows after cleaning: 43424\n"
     ]
    },
    {
     "name": "stderr",
     "output_type": "stream",
     "text": [
      "C:\\Users\\simmo\\Miniconda3\\lib\\site-packages\\pandas\\core\\indexing.py:543: SettingWithCopyWarning: \n",
      "A value is trying to be set on a copy of a slice from a DataFrame.\n",
      "Try using .loc[row_indexer,col_indexer] = value instead\n",
      "\n",
      "See the caveats in the documentation: http://pandas.pydata.org/pandas-docs/stable/indexing.html#indexing-view-versus-copy\n",
      "  self.obj[item] = s\n"
     ]
    }
   ],
   "source": [
    "res_type_df.loc[:,'To_name'] = res_type_df['To_name'].map(rename_dict)\n",
    "res_shape = res_type_df.shape\n",
    "final_shape = df_dict['final'][df_dict['final']['Link_type']=='Resource'].shape\n",
    "print('Starting # of Rows: {}\\nRows after cleaning: {}'.format(final_shape[0], res_shape[0]))"
   ]
  },
  {
   "cell_type": "code",
   "execution_count": 170,
   "metadata": {},
   "outputs": [
    {
     "name": "stdout",
     "output_type": "stream",
     "text": [
      "Unique titles: 24208\n"
     ]
    }
   ],
   "source": [
    "clean_title_list = [x for x in res_type_df['From_name']]\n",
    "clean_df = df_dict['final'][df_dict['final']['From_name'].isin(clean_title_list)]\n",
    "print('Unique titles: {}'.format(res_type_df['From_name'].nunique()))"
   ]
  },
  {
   "cell_type": "code",
   "execution_count": 171,
   "metadata": {},
   "outputs": [
    {
     "name": "stdout",
     "output_type": "stream",
     "text": [
      "Original dataframe: 291923\n",
      "Clean dataframe: 264040\n"
     ]
    }
   ],
   "source": [
    "print('Original dataframe: {}'.format(df_dict['final'].shape[0]))\n",
    "print('Clean dataframe: {}'.format(clean_df.shape[0]))"
   ]
  },
  {
   "cell_type": "markdown",
   "metadata": {},
   "source": [
    "# Explorative analysis"
   ]
  },
  {
   "cell_type": "markdown",
   "metadata": {},
   "source": [
    "Dataframe - final --- Linking table for all resources"
   ]
  },
  {
   "cell_type": "code",
   "execution_count": 172,
   "metadata": {},
   "outputs": [
    {
     "data": {
      "text/html": [
       "<div>\n",
       "<style scoped>\n",
       "    .dataframe tbody tr th:only-of-type {\n",
       "        vertical-align: middle;\n",
       "    }\n",
       "\n",
       "    .dataframe tbody tr th {\n",
       "        vertical-align: top;\n",
       "    }\n",
       "\n",
       "    .dataframe thead th {\n",
       "        text-align: right;\n",
       "    }\n",
       "</style>\n",
       "<table border=\"1\" class=\"dataframe\">\n",
       "  <thead>\n",
       "    <tr style=\"text-align: right;\">\n",
       "      <th></th>\n",
       "      <th>To_ID</th>\n",
       "      <th>To_name</th>\n",
       "      <th>From_ID</th>\n",
       "      <th>From_name</th>\n",
       "      <th>Link_type</th>\n",
       "    </tr>\n",
       "  </thead>\n",
       "  <tbody>\n",
       "    <tr>\n",
       "      <th>0</th>\n",
       "      <td>35738</td>\n",
       "      <td>HTML</td>\n",
       "      <td>3356</td>\n",
       "      <td>'Seabase' - Marine environmental monitoring data</td>\n",
       "      <td>Resource</td>\n",
       "    </tr>\n",
       "    <tr>\n",
       "      <th>1</th>\n",
       "      <td>35739</td>\n",
       "      <td>PDF</td>\n",
       "      <td>21051</td>\n",
       "      <td>(Other) Local Government Areas - PSMA Administ...</td>\n",
       "      <td>Resource</td>\n",
       "    </tr>\n",
       "    <tr>\n",
       "      <th>2</th>\n",
       "      <td>35740</td>\n",
       "      <td>SHP</td>\n",
       "      <td>21051</td>\n",
       "      <td>(Other) Local Government Areas - PSMA Administ...</td>\n",
       "      <td>Resource</td>\n",
       "    </tr>\n",
       "    <tr>\n",
       "      <th>3</th>\n",
       "      <td>35741</td>\n",
       "      <td>WMS</td>\n",
       "      <td>21051</td>\n",
       "      <td>(Other) Local Government Areas - PSMA Administ...</td>\n",
       "      <td>Resource</td>\n",
       "    </tr>\n",
       "    <tr>\n",
       "      <th>4</th>\n",
       "      <td>35742</td>\n",
       "      <td>WFS</td>\n",
       "      <td>21051</td>\n",
       "      <td>(Other) Local Government Areas - PSMA Administ...</td>\n",
       "      <td>Resource</td>\n",
       "    </tr>\n",
       "  </tbody>\n",
       "</table>\n",
       "</div>"
      ],
      "text/plain": [
       "   To_ID To_name  From_ID                                          From_name  \\\n",
       "0  35738    HTML     3356   'Seabase' - Marine environmental monitoring data   \n",
       "1  35739     PDF    21051  (Other) Local Government Areas - PSMA Administ...   \n",
       "2  35740     SHP    21051  (Other) Local Government Areas - PSMA Administ...   \n",
       "3  35741     WMS    21051  (Other) Local Government Areas - PSMA Administ...   \n",
       "4  35742     WFS    21051  (Other) Local Government Areas - PSMA Administ...   \n",
       "\n",
       "  Link_type  \n",
       "0  Resource  \n",
       "1  Resource  \n",
       "2  Resource  \n",
       "3  Resource  \n",
       "4  Resource  "
      ]
     },
     "execution_count": 172,
     "metadata": {},
     "output_type": "execute_result"
    }
   ],
   "source": [
    "clean_df.head()"
   ]
  },
  {
   "cell_type": "code",
   "execution_count": 173,
   "metadata": {},
   "outputs": [
    {
     "name": "stdout",
     "output_type": "stream",
     "text": [
      "Unique link types:\n",
      "\t Resource\n",
      "\t Tag\n",
      "\t Publisher/Agency\n",
      "\t Jurisdiction\n",
      "\t Data portal\n"
     ]
    }
   ],
   "source": [
    "# Unique Link_types\n",
    "print('Unique link types:')\n",
    "for x in clean_df['Link_type'].unique():\n",
    "    print('\\t',x)"
   ]
  },
  {
   "cell_type": "markdown",
   "metadata": {},
   "source": [
    "## Link types"
   ]
  },
  {
   "cell_type": "markdown",
   "metadata": {},
   "source": [
    "instantiate df"
   ]
  },
  {
   "cell_type": "code",
   "execution_count": 88,
   "metadata": {
    "hide_input": true
   },
   "outputs": [],
   "source": [
    "# instantiate unique info df\n",
    "uni_df = pd.DataFrame(index=['count','top'])"
   ]
  },
  {
   "cell_type": "markdown",
   "metadata": {},
   "source": [
    "### Resources per title (i.e. PDF, XLS, CSV, etc..)"
   ]
  },
  {
   "cell_type": "markdown",
   "metadata": {
    "hide_input": false
   },
   "source": [
    "1) group dataframe by asset title ('From_name','To_name')\n",
    "\n",
    "2) reset index\n",
    "\n",
    "3) create pivot table - Column for each link type"
   ]
  },
  {
   "cell_type": "code",
   "execution_count": 174,
   "metadata": {
    "hide_input": true
   },
   "outputs": [],
   "source": [
    "title_res_counts_df = res_type_df.groupby(['From_name','To_name']).count()\n",
    "title_res_counts_df = title_res_counts_df.reset_index().drop(['From_ID','To_ID'], axis=1)\n",
    "title_res_counts_pivot_df = pd.pivot_table(title_res_counts_df, values='Link_type', index='From_name', columns='To_name').reset_index()"
   ]
  },
  {
   "cell_type": "code",
   "execution_count": 175,
   "metadata": {
    "hide_input": false,
    "scrolled": false
   },
   "outputs": [
    {
     "data": {
      "text/html": [
       "<div>\n",
       "<style scoped>\n",
       "    .dataframe tbody tr th:only-of-type {\n",
       "        vertical-align: middle;\n",
       "    }\n",
       "\n",
       "    .dataframe tbody tr th {\n",
       "        vertical-align: top;\n",
       "    }\n",
       "\n",
       "    .dataframe thead th {\n",
       "        text-align: right;\n",
       "    }\n",
       "</style>\n",
       "<table border=\"1\" class=\"dataframe\">\n",
       "  <thead>\n",
       "    <tr style=\"text-align: right;\">\n",
       "      <th>To_name</th>\n",
       "      <th>From_name</th>\n",
       "      <th>ACCDB</th>\n",
       "      <th>API</th>\n",
       "      <th>ARCGRID</th>\n",
       "      <th>ASC</th>\n",
       "      <th>AUDIO</th>\n",
       "      <th>BZ2</th>\n",
       "      <th>CSV</th>\n",
       "      <th>CSW</th>\n",
       "      <th>DOC</th>\n",
       "      <th>...</th>\n",
       "      <th>WMS &amp; WFS</th>\n",
       "      <th>WORD</th>\n",
       "      <th>XLSF</th>\n",
       "      <th>XLSX</th>\n",
       "      <th>XML</th>\n",
       "      <th>XSD</th>\n",
       "      <th>XSLX</th>\n",
       "      <th>ZIP</th>\n",
       "      <th>map viewer</th>\n",
       "      <th>plain</th>\n",
       "    </tr>\n",
       "  </thead>\n",
       "  <tbody>\n",
       "    <tr>\n",
       "      <th>0</th>\n",
       "      <td>'Seabase' - Marine environmental monitoring data</td>\n",
       "      <td>NaN</td>\n",
       "      <td>NaN</td>\n",
       "      <td>NaN</td>\n",
       "      <td>NaN</td>\n",
       "      <td>NaN</td>\n",
       "      <td>NaN</td>\n",
       "      <td>NaN</td>\n",
       "      <td>NaN</td>\n",
       "      <td>NaN</td>\n",
       "      <td>...</td>\n",
       "      <td>NaN</td>\n",
       "      <td>NaN</td>\n",
       "      <td>NaN</td>\n",
       "      <td>NaN</td>\n",
       "      <td>NaN</td>\n",
       "      <td>NaN</td>\n",
       "      <td>NaN</td>\n",
       "      <td>NaN</td>\n",
       "      <td>NaN</td>\n",
       "      <td>NaN</td>\n",
       "    </tr>\n",
       "  </tbody>\n",
       "</table>\n",
       "<p>1 rows × 63 columns</p>\n",
       "</div>"
      ],
      "text/plain": [
       "To_name                                         From_name  ACCDB  API  \\\n",
       "0        'Seabase' - Marine environmental monitoring data    NaN  NaN   \n",
       "\n",
       "To_name  ARCGRID  ASC  AUDIO  BZ2  CSV  CSW  DOC  ...    WMS & WFS  WORD  \\\n",
       "0            NaN  NaN    NaN  NaN  NaN  NaN  NaN  ...          NaN   NaN   \n",
       "\n",
       "To_name  XLSF  XLSX  XML  XSD  XSLX  ZIP  map viewer  plain  \n",
       "0         NaN   NaN  NaN  NaN   NaN  NaN         NaN    NaN  \n",
       "\n",
       "[1 rows x 63 columns]"
      ]
     },
     "execution_count": 175,
     "metadata": {},
     "output_type": "execute_result"
    }
   ],
   "source": [
    "title_res_counts_pivot_df.head(1)"
   ]
  },
  {
   "cell_type": "markdown",
   "metadata": {},
   "source": [
    "### Resources - Overview"
   ]
  },
  {
   "cell_type": "code",
   "execution_count": 176,
   "metadata": {
    "hide_input": false,
    "scrolled": true
   },
   "outputs": [
    {
     "name": "stdout",
     "output_type": "stream",
     "text": [
      "List of Top 15 Resources\n"
     ]
    }
   ],
   "source": [
    "print('List of Top 15 Resources')\n",
    "res_totals = title_res_counts_pivot_df.iloc[:,1:].sum().sort_values(ascending=False)\n",
    "res_totals_df = pd.DataFrame(res_totals, columns=['count'])"
   ]
  },
  {
   "cell_type": "code",
   "execution_count": 177,
   "metadata": {
    "hide_input": false
   },
   "outputs": [
    {
     "data": {
      "text/html": [
       "<div>\n",
       "<style scoped>\n",
       "    .dataframe tbody tr th:only-of-type {\n",
       "        vertical-align: middle;\n",
       "    }\n",
       "\n",
       "    .dataframe tbody tr th {\n",
       "        vertical-align: top;\n",
       "    }\n",
       "\n",
       "    .dataframe thead th {\n",
       "        text-align: right;\n",
       "    }\n",
       "</style>\n",
       "<table border=\"1\" class=\"dataframe\">\n",
       "  <thead>\n",
       "    <tr style=\"text-align: right;\">\n",
       "      <th></th>\n",
       "      <th>count</th>\n",
       "      <th>perc</th>\n",
       "    </tr>\n",
       "    <tr>\n",
       "      <th>To_name</th>\n",
       "      <th></th>\n",
       "      <th></th>\n",
       "    </tr>\n",
       "  </thead>\n",
       "  <tbody>\n",
       "    <tr>\n",
       "      <th>PDF</th>\n",
       "      <td>14002.0</td>\n",
       "      <td>32.244842</td>\n",
       "    </tr>\n",
       "    <tr>\n",
       "      <th>ZIP</th>\n",
       "      <td>8089.0</td>\n",
       "      <td>18.627948</td>\n",
       "    </tr>\n",
       "    <tr>\n",
       "      <th>HTML</th>\n",
       "      <td>6062.0</td>\n",
       "      <td>13.960022</td>\n",
       "    </tr>\n",
       "    <tr>\n",
       "      <th>WMS</th>\n",
       "      <td>3265.0</td>\n",
       "      <td>7.518884</td>\n",
       "    </tr>\n",
       "    <tr>\n",
       "      <th>CSV</th>\n",
       "      <td>3110.0</td>\n",
       "      <td>7.161938</td>\n",
       "    </tr>\n",
       "    <tr>\n",
       "      <th>XLSX</th>\n",
       "      <td>2053.0</td>\n",
       "      <td>4.727800</td>\n",
       "    </tr>\n",
       "    <tr>\n",
       "      <th>SHP</th>\n",
       "      <td>1563.0</td>\n",
       "      <td>3.599392</td>\n",
       "    </tr>\n",
       "    <tr>\n",
       "      <th>KML</th>\n",
       "      <td>1328.0</td>\n",
       "      <td>3.058217</td>\n",
       "    </tr>\n",
       "    <tr>\n",
       "      <th>GeoJSON</th>\n",
       "      <td>1011.0</td>\n",
       "      <td>2.328206</td>\n",
       "    </tr>\n",
       "    <tr>\n",
       "      <th>WFS</th>\n",
       "      <td>869.0</td>\n",
       "      <td>2.001197</td>\n",
       "    </tr>\n",
       "    <tr>\n",
       "      <th>ESRI FILE</th>\n",
       "      <td>727.0</td>\n",
       "      <td>1.674189</td>\n",
       "    </tr>\n",
       "    <tr>\n",
       "      <th>ARCGRID</th>\n",
       "      <td>346.0</td>\n",
       "      <td>0.796794</td>\n",
       "    </tr>\n",
       "    <tr>\n",
       "      <th>plain</th>\n",
       "      <td>149.0</td>\n",
       "      <td>0.343128</td>\n",
       "    </tr>\n",
       "    <tr>\n",
       "      <th>JSON</th>\n",
       "      <td>130.0</td>\n",
       "      <td>0.299374</td>\n",
       "    </tr>\n",
       "    <tr>\n",
       "      <th>KMZ</th>\n",
       "      <td>121.0</td>\n",
       "      <td>0.278648</td>\n",
       "    </tr>\n",
       "  </tbody>\n",
       "</table>\n",
       "</div>"
      ],
      "text/plain": [
       "             count       perc\n",
       "To_name                      \n",
       "PDF        14002.0  32.244842\n",
       "ZIP         8089.0  18.627948\n",
       "HTML        6062.0  13.960022\n",
       "WMS         3265.0   7.518884\n",
       "CSV         3110.0   7.161938\n",
       "XLSX        2053.0   4.727800\n",
       "SHP         1563.0   3.599392\n",
       "KML         1328.0   3.058217\n",
       "GeoJSON     1011.0   2.328206\n",
       "WFS          869.0   2.001197\n",
       "ESRI FILE    727.0   1.674189\n",
       "ARCGRID      346.0   0.796794\n",
       "plain        149.0   0.343128\n",
       "JSON         130.0   0.299374\n",
       "KMZ          121.0   0.278648"
      ]
     },
     "execution_count": 177,
     "metadata": {},
     "output_type": "execute_result"
    }
   ],
   "source": [
    "res_totals_df['perc'] = res_totals_df.apply(lambda x: 100 * x / res_totals.sum())\n",
    "uni_res = title_res_counts_df['To_name'].nunique()\n",
    "top_res = 10\n",
    "res_totals_df.head(15)"
   ]
  },
  {
   "cell_type": "code",
   "execution_count": 178,
   "metadata": {
    "hide_input": false,
    "scrolled": true
   },
   "outputs": [
    {
     "data": {
      "image/png": "[encoded data removed]",
      "text/plain": [
       "<Figure size 1080x288 with 1 Axes>"
      ]
     },
     "metadata": {},
     "output_type": "display_data"
    }
   ],
   "source": [
    "plt.figure(figsize=(15,4))\n",
    "res_totals[:10].plot(kind='bar', alpha=0.8)\n",
    "plt.title('Top 10 Resources Types')\n",
    "plt.xlabel('Resource')\n",
    "plt.ylabel('Count');"
   ]
  },
  {
   "cell_type": "markdown",
   "metadata": {},
   "source": [
    "### Resource Counts for each Title"
   ]
  },
  {
   "cell_type": "code",
   "execution_count": 179,
   "metadata": {
    "hide_input": false,
    "scrolled": true
   },
   "outputs": [
    {
     "name": "stdout",
     "output_type": "stream",
     "text": [
      "Resource type dataframe\n"
     ]
    },
    {
     "data": {
      "text/html": [
       "<div>\n",
       "<style scoped>\n",
       "    .dataframe tbody tr th:only-of-type {\n",
       "        vertical-align: middle;\n",
       "    }\n",
       "\n",
       "    .dataframe tbody tr th {\n",
       "        vertical-align: top;\n",
       "    }\n",
       "\n",
       "    .dataframe thead th {\n",
       "        text-align: right;\n",
       "    }\n",
       "</style>\n",
       "<table border=\"1\" class=\"dataframe\">\n",
       "  <thead>\n",
       "    <tr style=\"text-align: right;\">\n",
       "      <th></th>\n",
       "      <th>To_ID</th>\n",
       "      <th>To_name</th>\n",
       "      <th>From_ID</th>\n",
       "      <th>From_name</th>\n",
       "      <th>Link_type</th>\n",
       "    </tr>\n",
       "  </thead>\n",
       "  <tbody>\n",
       "    <tr>\n",
       "      <th>0</th>\n",
       "      <td>35738</td>\n",
       "      <td>HTML</td>\n",
       "      <td>3356</td>\n",
       "      <td>'Seabase' - Marine environmental monitoring data</td>\n",
       "      <td>Resource</td>\n",
       "    </tr>\n",
       "  </tbody>\n",
       "</table>\n",
       "</div>"
      ],
      "text/plain": [
       "   To_ID To_name  From_ID                                         From_name  \\\n",
       "0  35738    HTML     3356  'Seabase' - Marine environmental monitoring data   \n",
       "\n",
       "  Link_type  \n",
       "0  Resource  "
      ]
     },
     "execution_count": 179,
     "metadata": {},
     "output_type": "execute_result"
    }
   ],
   "source": [
    "print('Resource type dataframe')\n",
    "res_type_df.head(1)"
   ]
  },
  {
   "cell_type": "code",
   "execution_count": 180,
   "metadata": {
    "scrolled": true
   },
   "outputs": [
    {
     "name": "stdout",
     "output_type": "stream",
     "text": [
      "Top 10 Titles - most resources available\n"
     ]
    },
    {
     "data": {
      "text/html": [
       "<div>\n",
       "<style scoped>\n",
       "    .dataframe tbody tr th:only-of-type {\n",
       "        vertical-align: middle;\n",
       "    }\n",
       "\n",
       "    .dataframe tbody tr th {\n",
       "        vertical-align: top;\n",
       "    }\n",
       "\n",
       "    .dataframe thead th {\n",
       "        text-align: right;\n",
       "    }\n",
       "</style>\n",
       "<table border=\"1\" class=\"dataframe\">\n",
       "  <thead>\n",
       "    <tr style=\"text-align: right;\">\n",
       "      <th></th>\n",
       "      <th>From_name</th>\n",
       "      <th>Link_type</th>\n",
       "    </tr>\n",
       "  </thead>\n",
       "  <tbody>\n",
       "    <tr>\n",
       "      <th>5288</th>\n",
       "      <td>Budget 2014-15 Tables and Data</td>\n",
       "      <td>184</td>\n",
       "    </tr>\n",
       "    <tr>\n",
       "      <th>5289</th>\n",
       "      <td>Budget 2015-16 Tables and Data</td>\n",
       "      <td>170</td>\n",
       "    </tr>\n",
       "    <tr>\n",
       "      <th>21724</th>\n",
       "      <td>Taxation Statistics 2014-15</td>\n",
       "      <td>128</td>\n",
       "    </tr>\n",
       "    <tr>\n",
       "      <th>21721</th>\n",
       "      <td>Taxation Statistics 2011-12</td>\n",
       "      <td>99</td>\n",
       "    </tr>\n",
       "    <tr>\n",
       "      <th>21722</th>\n",
       "      <td>Taxation Statistics 2012-13</td>\n",
       "      <td>89</td>\n",
       "    </tr>\n",
       "    <tr>\n",
       "      <th>21723</th>\n",
       "      <td>Taxation Statistics 2013-14</td>\n",
       "      <td>87</td>\n",
       "    </tr>\n",
       "    <tr>\n",
       "      <th>12087</th>\n",
       "      <td>Income Management Summary by Measure inc Basic...</td>\n",
       "      <td>62</td>\n",
       "    </tr>\n",
       "    <tr>\n",
       "      <th>16981</th>\n",
       "      <td>Portfolio Additional Estimates Statements 2014...</td>\n",
       "      <td>60</td>\n",
       "    </tr>\n",
       "    <tr>\n",
       "      <th>24157</th>\n",
       "      <td>[Superseded] Intellectual Property Government ...</td>\n",
       "      <td>48</td>\n",
       "    </tr>\n",
       "    <tr>\n",
       "      <th>88</th>\n",
       "      <td>2015-16 Portfolio Additional Estimates Statements</td>\n",
       "      <td>43</td>\n",
       "    </tr>\n",
       "  </tbody>\n",
       "</table>\n",
       "</div>"
      ],
      "text/plain": [
       "                                               From_name  Link_type\n",
       "5288                      Budget 2014-15 Tables and Data        184\n",
       "5289                      Budget 2015-16 Tables and Data        170\n",
       "21724                        Taxation Statistics 2014-15        128\n",
       "21721                        Taxation Statistics 2011-12         99\n",
       "21722                        Taxation Statistics 2012-13         89\n",
       "21723                        Taxation Statistics 2013-14         87\n",
       "12087  Income Management Summary by Measure inc Basic...         62\n",
       "16981  Portfolio Additional Estimates Statements 2014...         60\n",
       "24157  [Superseded] Intellectual Property Government ...         48\n",
       "88     2015-16 Portfolio Additional Estimates Statements         43"
      ]
     },
     "execution_count": 180,
     "metadata": {},
     "output_type": "execute_result"
    }
   ],
   "source": [
    "res_top_group = res_type_df.groupby('From_name').count().reset_index().drop(['To_ID','To_name','From_ID'], axis=1).sort_values('Link_type', ascending=False).head(10)\n",
    "print('Top 10 Titles - most resources available')\n",
    "res_top_group"
   ]
  },
  {
   "cell_type": "code",
   "execution_count": 181,
   "metadata": {
    "hide_input": false
   },
   "outputs": [
    {
     "name": "stdout",
     "output_type": "stream",
     "text": [
      "Most titles have between 1 - 2 resources\n"
     ]
    },
    {
     "data": {
      "image/png": "[encoded data removed]",
      "text/plain": [
       "<Figure size 432x288 with 1 Axes>"
      ]
     },
     "metadata": {},
     "output_type": "display_data"
    }
   ],
   "source": [
    "print('Most titles have between 1 - 2 resources')\n",
    "plt.hist(res_type_df.groupby('From_name').count().reset_index().drop(['To_ID','To_name','From_ID'], \n",
    "                                                                     axis=1).reset_index()['Link_type'], range=(0,10))\n",
    "plt.title('Resources per Title Frequency')\n",
    "plt.xlabel('Resource')\n",
    "plt.ylabel('Count');"
   ]
  },
  {
   "cell_type": "markdown",
   "metadata": {},
   "source": [
    "### Data portal"
   ]
  },
  {
   "cell_type": "code",
   "execution_count": 94,
   "metadata": {
    "hide_input": false
   },
   "outputs": [
    {
     "name": "stdout",
     "output_type": "stream",
     "text": [
      "Most frequent data portals\n"
     ]
    },
    {
     "data": {
      "text/html": [
       "<div>\n",
       "<style scoped>\n",
       "    .dataframe tbody tr th:only-of-type {\n",
       "        vertical-align: middle;\n",
       "    }\n",
       "\n",
       "    .dataframe tbody tr th {\n",
       "        vertical-align: top;\n",
       "    }\n",
       "\n",
       "    .dataframe thead th {\n",
       "        text-align: right;\n",
       "    }\n",
       "</style>\n",
       "<table border=\"1\" class=\"dataframe\">\n",
       "  <thead>\n",
       "    <tr style=\"text-align: right;\">\n",
       "      <th></th>\n",
       "      <th>index</th>\n",
       "      <th>To_name</th>\n",
       "      <th>To_ID</th>\n",
       "      <th>perc</th>\n",
       "    </tr>\n",
       "  </thead>\n",
       "  <tbody>\n",
       "    <tr>\n",
       "      <th>0</th>\n",
       "      <td>8</td>\n",
       "      <td>Geoscience Australia CSW Harvester</td>\n",
       "      <td>14035</td>\n",
       "      <td>57.955155</td>\n",
       "    </tr>\n",
       "    <tr>\n",
       "      <th>1</th>\n",
       "      <td>2</td>\n",
       "      <td>Australian Oceans Data Network CSW Harvester</td>\n",
       "      <td>5047</td>\n",
       "      <td>20.840732</td>\n",
       "    </tr>\n",
       "    <tr>\n",
       "      <th>2</th>\n",
       "      <td>15</td>\n",
       "      <td>data.gov.au</td>\n",
       "      <td>3288</td>\n",
       "      <td>13.577239</td>\n",
       "    </tr>\n",
       "    <tr>\n",
       "      <th>3</th>\n",
       "      <td>1</td>\n",
       "      <td>Australian Institute of Marine Science CSW Ha...</td>\n",
       "      <td>1142</td>\n",
       "      <td>4.715696</td>\n",
       "    </tr>\n",
       "    <tr>\n",
       "      <th>4</th>\n",
       "      <td>9</td>\n",
       "      <td>Logan City ArcGIS JSON Harvest</td>\n",
       "      <td>192</td>\n",
       "      <td>0.792831</td>\n",
       "    </tr>\n",
       "  </tbody>\n",
       "</table>\n",
       "</div>"
      ],
      "text/plain": [
       "   index                                            To_name  To_ID       perc\n",
       "0      8                 Geoscience Australia CSW Harvester  14035  57.955155\n",
       "1      2       Australian Oceans Data Network CSW Harvester   5047  20.840732\n",
       "2     15                                        data.gov.au   3288  13.577239\n",
       "3      1   Australian Institute of Marine Science CSW Ha...   1142   4.715696\n",
       "4      9                     Logan City ArcGIS JSON Harvest    192   0.792831"
      ]
     },
     "execution_count": 94,
     "metadata": {},
     "output_type": "execute_result"
    }
   ],
   "source": [
    "print('Most frequent data portals')\n",
    "portals_df = clean_df[clean_df['Link_type']=='Data portal'].groupby('To_name').count().reset_index()[['To_name','To_ID']].sort_values('To_ID',ascending=False) #.head(10)\n",
    "portals_df['perc'] = portals_df['To_ID'].map(lambda x: 100 * x / portals_df['To_ID'].sum())\n",
    "portals_df = portals_df.reset_index()\n",
    "portals_df.head()"
   ]
  },
  {
   "cell_type": "code",
   "execution_count": 91,
   "metadata": {
    "hide_input": false
   },
   "outputs": [
    {
     "name": "stdout",
     "output_type": "stream",
     "text": [
      "Number of unique data portals: 16\n"
     ]
    }
   ],
   "source": [
    "uni_dat = clean_df[clean_df['Link_type']=='Data portal'].groupby('To_name').count().reset_index()['To_name'].nunique()\n",
    "uni_df.loc['count','Data_portal'] = uni_dat\n",
    "uni_df.loc['top','Data_portal'] = 4\n",
    "print('Number of unique data portals: {}'.format(uni_dat))"
   ]
  },
  {
   "cell_type": "code",
   "execution_count": 41,
   "metadata": {
    "hide_input": false,
    "scrolled": true
   },
   "outputs": [
    {
     "name": "stdout",
     "output_type": "stream",
     "text": [
      "pivot table of data portals and title\n"
     ]
    },
    {
     "data": {
      "text/html": [
       "<div>\n",
       "<style scoped>\n",
       "    .dataframe tbody tr th:only-of-type {\n",
       "        vertical-align: middle;\n",
       "    }\n",
       "\n",
       "    .dataframe tbody tr th {\n",
       "        vertical-align: top;\n",
       "    }\n",
       "\n",
       "    .dataframe thead th {\n",
       "        text-align: right;\n",
       "    }\n",
       "</style>\n",
       "<table border=\"1\" class=\"dataframe\">\n",
       "  <thead>\n",
       "    <tr style=\"text-align: right;\">\n",
       "      <th>To_name</th>\n",
       "      <th>From_name</th>\n",
       "      <th>Australian Bureau of Meteorology CSW Harvester</th>\n",
       "      <th>Australian Institute of Marine Science CSW Harvester</th>\n",
       "      <th>Australian Oceans Data Network CSW Harvester</th>\n",
       "      <th>Brisbane City Council CKAN Harvester</th>\n",
       "      <th>City of Darwin</th>\n",
       "      <th>City of Hobart ArcGIS JSON Harvest</th>\n",
       "      <th>City of Launceston ArcGIS JSON Harvester</th>\n",
       "      <th>Data SA CKAN Harvester</th>\n",
       "      <th>Geoscience Australia CSW Harvester</th>\n",
       "      <th>Logan City ArcGIS JSON Harvest</th>\n",
       "      <th>Mineral Resources Tasmania CSW Harvester</th>\n",
       "      <th>Moreton Bay ArcGIS JSON Harvest</th>\n",
       "      <th>National Environmental Information Infrastructure CSW Harvester</th>\n",
       "      <th>Navy Meteorology and Oceanography (METOC) CSW Harvester</th>\n",
       "      <th>Tasmania Department of Primary Industries, Parks, Water and Environment CSW Harvester</th>\n",
       "      <th>data.gov.au</th>\n",
       "    </tr>\n",
       "  </thead>\n",
       "  <tbody>\n",
       "    <tr>\n",
       "      <th>0</th>\n",
       "      <td>'Seabase' - Marine environmental monitoring data</td>\n",
       "      <td>NaN</td>\n",
       "      <td>NaN</td>\n",
       "      <td>1.0</td>\n",
       "      <td>NaN</td>\n",
       "      <td>NaN</td>\n",
       "      <td>NaN</td>\n",
       "      <td>NaN</td>\n",
       "      <td>NaN</td>\n",
       "      <td>NaN</td>\n",
       "      <td>NaN</td>\n",
       "      <td>NaN</td>\n",
       "      <td>NaN</td>\n",
       "      <td>NaN</td>\n",
       "      <td>NaN</td>\n",
       "      <td>NaN</td>\n",
       "      <td>NaN</td>\n",
       "    </tr>\n",
       "  </tbody>\n",
       "</table>\n",
       "</div>"
      ],
      "text/plain": [
       "To_name                                         From_name  \\\n",
       "0        'Seabase' - Marine environmental monitoring data   \n",
       "\n",
       "To_name   Australian Bureau of Meteorology CSW Harvester  \\\n",
       "0                                                    NaN   \n",
       "\n",
       "To_name   Australian Institute of Marine Science CSW Harvester  \\\n",
       "0                                                      NaN       \n",
       "\n",
       "To_name   Australian Oceans Data Network CSW Harvester  \\\n",
       "0                                                  1.0   \n",
       "\n",
       "To_name   Brisbane City Council CKAN Harvester   City of Darwin  \\\n",
       "0                                          NaN              NaN   \n",
       "\n",
       "To_name   City of Hobart ArcGIS JSON Harvest  \\\n",
       "0                                        NaN   \n",
       "\n",
       "To_name   City of Launceston ArcGIS JSON Harvester   Data SA CKAN Harvester  \\\n",
       "0                                              NaN                      NaN   \n",
       "\n",
       "To_name   Geoscience Australia CSW Harvester   Logan City ArcGIS JSON Harvest  \\\n",
       "0                                        NaN                              NaN   \n",
       "\n",
       "To_name   Mineral Resources Tasmania CSW Harvester  \\\n",
       "0                                              NaN   \n",
       "\n",
       "To_name   Moreton Bay ArcGIS JSON Harvest  \\\n",
       "0                                     NaN   \n",
       "\n",
       "To_name   National Environmental Information Infrastructure CSW Harvester  \\\n",
       "0                                                      NaN                  \n",
       "\n",
       "To_name   Navy Meteorology and Oceanography (METOC) CSW Harvester  \\\n",
       "0                                                      NaN          \n",
       "\n",
       "To_name   Tasmania Department of Primary Industries, Parks, Water and Environment CSW Harvester  \\\n",
       "0                                                      NaN                                        \n",
       "\n",
       "To_name   data.gov.au  \n",
       "0                 NaN  "
      ]
     },
     "execution_count": 41,
     "metadata": {},
     "output_type": "execute_result"
    }
   ],
   "source": [
    "print('pivot table of data portals and title')\n",
    "port_count_df = clean_df[clean_df['Link_type']=='Data portal'].groupby(['From_name','To_name']).count().reset_index().drop(['From_ID','To_ID'],axis=1)\n",
    "port_count_pivot_df = pd.pivot_table(port_count_df, values='Link_type', index='From_name', columns='To_name').reset_index()\n",
    "port_count_pivot_df.head(1)"
   ]
  },
  {
   "cell_type": "markdown",
   "metadata": {},
   "source": [
    "### Jurisdiction"
   ]
  },
  {
   "cell_type": "code",
   "execution_count": 98,
   "metadata": {
    "hide_input": true
   },
   "outputs": [
    {
     "name": "stdout",
     "output_type": "stream",
     "text": [
      "Most frequent jurisdictions\n"
     ]
    },
    {
     "data": {
      "text/html": [
       "<div>\n",
       "<style scoped>\n",
       "    .dataframe tbody tr th:only-of-type {\n",
       "        vertical-align: middle;\n",
       "    }\n",
       "\n",
       "    .dataframe tbody tr th {\n",
       "        vertical-align: top;\n",
       "    }\n",
       "\n",
       "    .dataframe thead th {\n",
       "        text-align: right;\n",
       "    }\n",
       "</style>\n",
       "<table border=\"1\" class=\"dataframe\">\n",
       "  <thead>\n",
       "    <tr style=\"text-align: right;\">\n",
       "      <th></th>\n",
       "      <th>index</th>\n",
       "      <th>To_name</th>\n",
       "      <th>To_ID</th>\n",
       "      <th>perc</th>\n",
       "    </tr>\n",
       "  </thead>\n",
       "  <tbody>\n",
       "    <tr>\n",
       "      <th>0</th>\n",
       "      <td>13</td>\n",
       "      <td>Commonwealth of Australia</td>\n",
       "      <td>21784</td>\n",
       "      <td>90.247742</td>\n",
       "    </tr>\n",
       "    <tr>\n",
       "      <th>1</th>\n",
       "      <td>20</td>\n",
       "      <td>Local Government</td>\n",
       "      <td>1139</td>\n",
       "      <td>4.718701</td>\n",
       "    </tr>\n",
       "    <tr>\n",
       "      <th>2</th>\n",
       "      <td>23</td>\n",
       "      <td>NONE</td>\n",
       "      <td>372</td>\n",
       "      <td>1.541138</td>\n",
       "    </tr>\n",
       "    <tr>\n",
       "      <th>3</th>\n",
       "      <td>28</td>\n",
       "      <td>Queensland</td>\n",
       "      <td>139</td>\n",
       "      <td>0.575855</td>\n",
       "    </tr>\n",
       "    <tr>\n",
       "      <th>4</th>\n",
       "      <td>24</td>\n",
       "      <td>New South Wales</td>\n",
       "      <td>122</td>\n",
       "      <td>0.505427</td>\n",
       "    </tr>\n",
       "  </tbody>\n",
       "</table>\n",
       "</div>"
      ],
      "text/plain": [
       "   index                     To_name  To_ID       perc\n",
       "0     13   Commonwealth of Australia  21784  90.247742\n",
       "1     20            Local Government   1139   4.718701\n",
       "2     23                        NONE    372   1.541138\n",
       "3     28                  Queensland    139   0.575855\n",
       "4     24             New South Wales    122   0.505427"
      ]
     },
     "execution_count": 98,
     "metadata": {},
     "output_type": "execute_result"
    }
   ],
   "source": [
    "print('Most frequent jurisdictions')\n",
    "jurs_df = clean_df[clean_df['Link_type']=='Jurisdiction'].groupby('To_name').count().reset_index()[['To_name','To_ID']].sort_values('To_ID',ascending=False)\n",
    "jurs_df['perc'] = jurs_df['To_ID'].map(lambda x: 100 * x / jurs_df['To_ID'].sum())\n",
    "jurs_df = jurs_df.reset_index()\n",
    "jurs_df.head()"
   ]
  },
  {
   "cell_type": "code",
   "execution_count": 95,
   "metadata": {
    "hide_input": true
   },
   "outputs": [
    {
     "name": "stdout",
     "output_type": "stream",
     "text": [
      "Number of unique jurisdictions: 53\n"
     ]
    }
   ],
   "source": [
    "uni_jur = clean_df[clean_df['Link_type']=='Jurisdiction'].groupby('To_name').count().reset_index()['To_name'].nunique()\n",
    "uni_df.loc['count','Jurisdiction'] = uni_jur\n",
    "uni_df.loc['top','Jurisdiction'] = 1\n",
    "print('Number of unique jurisdictions: {}'.format(uni_jur))"
   ]
  },
  {
   "cell_type": "code",
   "execution_count": 44,
   "metadata": {
    "hide_input": false,
    "scrolled": true
   },
   "outputs": [
    {
     "name": "stdout",
     "output_type": "stream",
     "text": [
      "pivot table of jurisdiction and title\n"
     ]
    },
    {
     "data": {
      "text/html": [
       "<div>\n",
       "<style scoped>\n",
       "    .dataframe tbody tr th:only-of-type {\n",
       "        vertical-align: middle;\n",
       "    }\n",
       "\n",
       "    .dataframe tbody tr th {\n",
       "        vertical-align: top;\n",
       "    }\n",
       "\n",
       "    .dataframe thead th {\n",
       "        text-align: right;\n",
       "    }\n",
       "</style>\n",
       "<table border=\"1\" class=\"dataframe\">\n",
       "  <thead>\n",
       "    <tr style=\"text-align: right;\">\n",
       "      <th>To_name</th>\n",
       "      <th>From_name</th>\n",
       "      <th>Alpine Shire</th>\n",
       "      <th>Alpine Shire Council</th>\n",
       "      <th>Australia</th>\n",
       "      <th>Australian Capital Territory</th>\n",
       "      <th>BOUNDARIES-Biophysical</th>\n",
       "      <th>Ballarat</th>\n",
       "      <th>Catchment Management Authority</th>\n",
       "      <th>Catchment Management Authority (Victoria)</th>\n",
       "      <th>City of Gold Coast</th>\n",
       "      <th>...</th>\n",
       "      <th>Western Australian Government</th>\n",
       "      <th>Borehole Points of Tasmania (Mineral Resources Tasmania)                 (gml3)</th>\n",
       "      <th>Category 3 Exploration Licence Polygons of Tasmania (Mineral Resources...</th>\n",
       "      <th>Category 4 Exploration Licence Polygons of Tasmania (Mineral Resources...</th>\n",
       "      <th>EarthResourceML mining feature occurrences of Tasmania                 (gml3)</th>\n",
       "      <th>Gravity Base Stations of Tasmania (Mineral Resources Tasmania)...</th>\n",
       "      <th>Landslide Damage Points of Tasmania (Mineral Resources Tasmania)...</th>\n",
       "      <th>Landslide Points of Tasmania (Mineral Resources Tasmania)                 (gml3)</th>\n",
       "      <th>Mineral Occurrence Points of Tasmania (Mineral Resources Tasmania)...</th>\n",
       "      <th>Proclaimed Landslip Areas of Tasmania (Mineral Resources Tasmania)...</th>\n",
       "    </tr>\n",
       "  </thead>\n",
       "  <tbody>\n",
       "    <tr>\n",
       "      <th>0</th>\n",
       "      <td>'Seabase' - Marine environmental monitoring data</td>\n",
       "      <td>NaN</td>\n",
       "      <td>NaN</td>\n",
       "      <td>NaN</td>\n",
       "      <td>NaN</td>\n",
       "      <td>NaN</td>\n",
       "      <td>NaN</td>\n",
       "      <td>NaN</td>\n",
       "      <td>NaN</td>\n",
       "      <td>NaN</td>\n",
       "      <td>...</td>\n",
       "      <td>NaN</td>\n",
       "      <td>NaN</td>\n",
       "      <td>NaN</td>\n",
       "      <td>NaN</td>\n",
       "      <td>NaN</td>\n",
       "      <td>NaN</td>\n",
       "      <td>NaN</td>\n",
       "      <td>NaN</td>\n",
       "      <td>NaN</td>\n",
       "      <td>NaN</td>\n",
       "    </tr>\n",
       "  </tbody>\n",
       "</table>\n",
       "<p>1 rows × 54 columns</p>\n",
       "</div>"
      ],
      "text/plain": [
       "To_name                                         From_name   Alpine Shire  \\\n",
       "0        'Seabase' - Marine environmental monitoring data            NaN   \n",
       "\n",
       "To_name   Alpine Shire Council   Australia   Australian Capital Territory  \\\n",
       "0                          NaN         NaN                            NaN   \n",
       "\n",
       "To_name   BOUNDARIES-Biophysical   Ballarat   Catchment Management Authority  \\\n",
       "0                            NaN        NaN                              NaN   \n",
       "\n",
       "To_name   Catchment Management Authority (Victoria)   City of Gold Coast  \\\n",
       "0                                               NaN                  NaN   \n",
       "\n",
       "To_name                                  ...                                    \\\n",
       "0                                        ...                                     \n",
       "\n",
       "To_name   Western Australian Government  \\\n",
       "0                                   NaN   \n",
       "\n",
       "To_name  Borehole Points of Tasmania (Mineral Resources Tasmania)                 (gml3)  \\\n",
       "0                                                      NaN                                 \n",
       "\n",
       "To_name  Category 3 Exploration Licence Polygons of Tasmania (Mineral Resources...  \\\n",
       "0                                                      NaN                           \n",
       "\n",
       "To_name  Category 4 Exploration Licence Polygons of Tasmania (Mineral Resources...  \\\n",
       "0                                                      NaN                           \n",
       "\n",
       "To_name  EarthResourceML mining feature occurrences of Tasmania                 (gml3)  \\\n",
       "0                                                      NaN                               \n",
       "\n",
       "To_name  Gravity Base Stations of Tasmania (Mineral Resources Tasmania)...  \\\n",
       "0                                                      NaN                   \n",
       "\n",
       "To_name  Landslide Damage Points of Tasmania (Mineral Resources Tasmania)...  \\\n",
       "0                                                      NaN                     \n",
       "\n",
       "To_name  Landslide Points of Tasmania (Mineral Resources Tasmania)                 (gml3)  \\\n",
       "0                                                      NaN                                  \n",
       "\n",
       "To_name  Mineral Occurrence Points of Tasmania (Mineral Resources Tasmania)...  \\\n",
       "0                                                      NaN                       \n",
       "\n",
       "To_name  Proclaimed Landslip Areas of Tasmania (Mineral Resources Tasmania)...  \n",
       "0                                                      NaN                      \n",
       "\n",
       "[1 rows x 54 columns]"
      ]
     },
     "execution_count": 44,
     "metadata": {},
     "output_type": "execute_result"
    }
   ],
   "source": [
    "print('pivot table of jurisdiction and title')\n",
    "jur_count_df = clean_df[clean_df['Link_type']=='Jurisdiction'].groupby(['From_name','To_name']).count().reset_index().drop(['From_ID','To_ID'],axis=1)\n",
    "jur_count_pivot_df = pd.pivot_table(jur_count_df, values='Link_type', index='From_name', columns='To_name').reset_index()\n",
    "jur_count_pivot_df.head(1)"
   ]
  },
  {
   "cell_type": "markdown",
   "metadata": {},
   "source": [
    "### Publisher/Agency"
   ]
  },
  {
   "cell_type": "code",
   "execution_count": 101,
   "metadata": {
    "hide_input": true,
    "scrolled": true
   },
   "outputs": [
    {
     "name": "stdout",
     "output_type": "stream",
     "text": [
      "Most frequent publishers\n"
     ]
    },
    {
     "data": {
      "text/html": [
       "<div>\n",
       "<style scoped>\n",
       "    .dataframe tbody tr th:only-of-type {\n",
       "        vertical-align: middle;\n",
       "    }\n",
       "\n",
       "    .dataframe tbody tr th {\n",
       "        vertical-align: top;\n",
       "    }\n",
       "\n",
       "    .dataframe thead th {\n",
       "        text-align: right;\n",
       "    }\n",
       "</style>\n",
       "<table border=\"1\" class=\"dataframe\">\n",
       "  <thead>\n",
       "    <tr style=\"text-align: right;\">\n",
       "      <th></th>\n",
       "      <th>index</th>\n",
       "      <th>To_name</th>\n",
       "      <th>To_ID</th>\n",
       "      <th>perc</th>\n",
       "    </tr>\n",
       "  </thead>\n",
       "  <tbody>\n",
       "    <tr>\n",
       "      <th>0</th>\n",
       "      <td>155</td>\n",
       "      <td>Geoscience Australia</td>\n",
       "      <td>15246</td>\n",
       "      <td>63.083416</td>\n",
       "    </tr>\n",
       "    <tr>\n",
       "      <th>1</th>\n",
       "      <td>53</td>\n",
       "      <td>CSIRO Oceans and Atmosphere - Information and ...</td>\n",
       "      <td>2486</td>\n",
       "      <td>10.286329</td>\n",
       "    </tr>\n",
       "    <tr>\n",
       "      <th>2</th>\n",
       "      <td>24</td>\n",
       "      <td>Australian Institute of Marine Science        ...</td>\n",
       "      <td>1089</td>\n",
       "      <td>4.505958</td>\n",
       "    </tr>\n",
       "    <tr>\n",
       "      <th>3</th>\n",
       "      <td>39</td>\n",
       "      <td>Bioregional Assessment Programme</td>\n",
       "      <td>794</td>\n",
       "      <td>3.285336</td>\n",
       "    </tr>\n",
       "    <tr>\n",
       "      <th>4</th>\n",
       "      <td>10</td>\n",
       "      <td>Australian Antarctic Division</td>\n",
       "      <td>446</td>\n",
       "      <td>1.845415</td>\n",
       "    </tr>\n",
       "    <tr>\n",
       "      <th>5</th>\n",
       "      <td>273</td>\n",
       "      <td>State of the Environment</td>\n",
       "      <td>333</td>\n",
       "      <td>1.377855</td>\n",
       "    </tr>\n",
       "    <tr>\n",
       "      <th>6</th>\n",
       "      <td>182</td>\n",
       "      <td>Logan City Council</td>\n",
       "      <td>192</td>\n",
       "      <td>0.794439</td>\n",
       "    </tr>\n",
       "    <tr>\n",
       "      <th>7</th>\n",
       "      <td>52</td>\n",
       "      <td>CSIRO Oceans &amp; Atmosphere - Hobart            ...</td>\n",
       "      <td>171</td>\n",
       "      <td>0.707547</td>\n",
       "    </tr>\n",
       "    <tr>\n",
       "      <th>8</th>\n",
       "      <td>191</td>\n",
       "      <td>Moreton Bay Regional Council</td>\n",
       "      <td>169</td>\n",
       "      <td>0.699272</td>\n",
       "    </tr>\n",
       "    <tr>\n",
       "      <th>9</th>\n",
       "      <td>13</td>\n",
       "      <td>Australian Bureau of Agriculture and Resource ...</td>\n",
       "      <td>130</td>\n",
       "      <td>0.537901</td>\n",
       "    </tr>\n",
       "    <tr>\n",
       "      <th>10</th>\n",
       "      <td>74</td>\n",
       "      <td>City of Greater Geelong</td>\n",
       "      <td>120</td>\n",
       "      <td>0.496524</td>\n",
       "    </tr>\n",
       "    <tr>\n",
       "      <th>11</th>\n",
       "      <td>247</td>\n",
       "      <td>School of Civil, Environmental and Mining Engi...</td>\n",
       "      <td>116</td>\n",
       "      <td>0.479974</td>\n",
       "    </tr>\n",
       "    <tr>\n",
       "      <th>12</th>\n",
       "      <td>236</td>\n",
       "      <td>Royal Australian Navy</td>\n",
       "      <td>106</td>\n",
       "      <td>0.438596</td>\n",
       "    </tr>\n",
       "    <tr>\n",
       "      <th>13</th>\n",
       "      <td>71</td>\n",
       "      <td>City of Gold Coast</td>\n",
       "      <td>102</td>\n",
       "      <td>0.422046</td>\n",
       "    </tr>\n",
       "    <tr>\n",
       "      <th>14</th>\n",
       "      <td>267</td>\n",
       "      <td>Southern Grampians Shire Council              ...</td>\n",
       "      <td>90</td>\n",
       "      <td>0.372393</td>\n",
       "    </tr>\n",
       "    <tr>\n",
       "      <th>15</th>\n",
       "      <td>172</td>\n",
       "      <td>Integrated Marine Observing System (IMOS)     ...</td>\n",
       "      <td>86</td>\n",
       "      <td>0.355842</td>\n",
       "    </tr>\n",
       "    <tr>\n",
       "      <th>16</th>\n",
       "      <td>67</td>\n",
       "      <td>City of Ballarat</td>\n",
       "      <td>70</td>\n",
       "      <td>0.289639</td>\n",
       "    </tr>\n",
       "    <tr>\n",
       "      <th>17</th>\n",
       "      <td>174</td>\n",
       "      <td>Ipswich City Council</td>\n",
       "      <td>70</td>\n",
       "      <td>0.289639</td>\n",
       "    </tr>\n",
       "    <tr>\n",
       "      <th>18</th>\n",
       "      <td>19</td>\n",
       "      <td>Australian Defence Force Academy (ADFA)       ...</td>\n",
       "      <td>67</td>\n",
       "      <td>0.277226</td>\n",
       "    </tr>\n",
       "    <tr>\n",
       "      <th>19</th>\n",
       "      <td>142</td>\n",
       "      <td>Environment Protection Authority Tasmania     ...</td>\n",
       "      <td>63</td>\n",
       "      <td>0.260675</td>\n",
       "    </tr>\n",
       "  </tbody>\n",
       "</table>\n",
       "</div>"
      ],
      "text/plain": [
       "    index                                            To_name  To_ID       perc\n",
       "0     155              Geoscience Australia                   15246  63.083416\n",
       "1      53  CSIRO Oceans and Atmosphere - Information and ...   2486  10.286329\n",
       "2      24  Australian Institute of Marine Science        ...   1089   4.505958\n",
       "3      39  Bioregional Assessment Programme                     794   3.285336\n",
       "4      10     Australian Antarctic Division                     446   1.845415\n",
       "5     273          State of the Environment                     333   1.377855\n",
       "6     182                Logan City Council                     192   0.794439\n",
       "7      52  CSIRO Oceans & Atmosphere - Hobart            ...    171   0.707547\n",
       "8     191      Moreton Bay Regional Council                     169   0.699272\n",
       "9      13  Australian Bureau of Agriculture and Resource ...    130   0.537901\n",
       "10     74           City of Greater Geelong                     120   0.496524\n",
       "11    247  School of Civil, Environmental and Mining Engi...    116   0.479974\n",
       "12    236             Royal Australian Navy                     106   0.438596\n",
       "13     71                City of Gold Coast                     102   0.422046\n",
       "14    267  Southern Grampians Shire Council              ...     90   0.372393\n",
       "15    172  Integrated Marine Observing System (IMOS)     ...     86   0.355842\n",
       "16     67                  City of Ballarat                      70   0.289639\n",
       "17    174              Ipswich City Council                      70   0.289639\n",
       "18     19  Australian Defence Force Academy (ADFA)       ...     67   0.277226\n",
       "19    142  Environment Protection Authority Tasmania     ...     63   0.260675"
      ]
     },
     "execution_count": 101,
     "metadata": {},
     "output_type": "execute_result"
    }
   ],
   "source": [
    "print('Most frequent publishers')\n",
    "pubs_df = clean_df[clean_df['Link_type']=='Publisher/Agency'].groupby('To_name').count().reset_index()[['To_name','To_ID']].sort_values('To_ID',ascending=False)\n",
    "pubs_df['perc'] = pubs_df['To_ID'].map(lambda x: 100 * x / pubs_df['To_ID'].sum())\n",
    "pubs_df = pubs_df.reset_index()\n",
    "pubs_df.head(20)"
   ]
  },
  {
   "cell_type": "code",
   "execution_count": 102,
   "metadata": {
    "hide_input": true
   },
   "outputs": [
    {
     "name": "stdout",
     "output_type": "stream",
     "text": [
      "Number of unique publishers: 318\n"
     ]
    }
   ],
   "source": [
    "uni_pub = clean_df[clean_df['Link_type']=='Publisher/Agency'].groupby('To_name').count().reset_index()['To_name'].nunique()\n",
    "uni_df.loc['count','Publisher'] = uni_pub\n",
    "uni_df.loc['top','Publisher'] = 20\n",
    "print('Number of unique publishers: {}'.format(uni_pub))"
   ]
  },
  {
   "cell_type": "code",
   "execution_count": 47,
   "metadata": {
    "hide_input": false
   },
   "outputs": [
    {
     "name": "stdout",
     "output_type": "stream",
     "text": [
      "pivot table of publishers and title\n"
     ]
    },
    {
     "data": {
      "text/html": [
       "<div>\n",
       "<style scoped>\n",
       "    .dataframe tbody tr th:only-of-type {\n",
       "        vertical-align: middle;\n",
       "    }\n",
       "\n",
       "    .dataframe tbody tr th {\n",
       "        vertical-align: top;\n",
       "    }\n",
       "\n",
       "    .dataframe thead th {\n",
       "        text-align: right;\n",
       "    }\n",
       "</style>\n",
       "<table border=\"1\" class=\"dataframe\">\n",
       "  <thead>\n",
       "    <tr style=\"text-align: right;\">\n",
       "      <th>To_name</th>\n",
       "      <th>From_name</th>\n",
       "      <th>AIMS</th>\n",
       "      <th>ARC Centre of Excellence for Coral Reef Studies, James Cook University</th>\n",
       "      <th>Airborne Research Australia (ARA)</th>\n",
       "      <th>Alpine Shire Council</th>\n",
       "      <th>Antarctic Climate and Ecosystems Cooperative Research Centre</th>\n",
       "      <th>Apache Energy - GIS Department</th>\n",
       "      <th>Arts Victoria</th>\n",
       "      <th>Attorney General's Department</th>\n",
       "      <th>Ausgrid</th>\n",
       "      <th>...</th>\n",
       "      <th>Yarriambiack Shire Council</th>\n",
       "      <th>er:MiningFeatureOccurrence</th>\n",
       "      <th>mrtwfs:Boreholes</th>\n",
       "      <th>mrtwfs:DamagePoint</th>\n",
       "      <th>mrtwfs:GravityBaseStations</th>\n",
       "      <th>mrtwfs:LandSlidePoint</th>\n",
       "      <th>mrtwfs:LicenceCategory3</th>\n",
       "      <th>mrtwfs:LicenceCategory4</th>\n",
       "      <th>mrtwfs:MineralOccurences</th>\n",
       "      <th>mrtwfs:ProclaimedAreasPoly</th>\n",
       "    </tr>\n",
       "  </thead>\n",
       "  <tbody>\n",
       "    <tr>\n",
       "      <th>0</th>\n",
       "      <td>'Seabase' - Marine environmental monitoring data</td>\n",
       "      <td>NaN</td>\n",
       "      <td>NaN</td>\n",
       "      <td>NaN</td>\n",
       "      <td>NaN</td>\n",
       "      <td>NaN</td>\n",
       "      <td>NaN</td>\n",
       "      <td>NaN</td>\n",
       "      <td>NaN</td>\n",
       "      <td>NaN</td>\n",
       "      <td>...</td>\n",
       "      <td>NaN</td>\n",
       "      <td>NaN</td>\n",
       "      <td>NaN</td>\n",
       "      <td>NaN</td>\n",
       "      <td>NaN</td>\n",
       "      <td>NaN</td>\n",
       "      <td>NaN</td>\n",
       "      <td>NaN</td>\n",
       "      <td>NaN</td>\n",
       "      <td>NaN</td>\n",
       "    </tr>\n",
       "  </tbody>\n",
       "</table>\n",
       "<p>1 rows × 319 columns</p>\n",
       "</div>"
      ],
      "text/plain": [
       "To_name                                         From_name  \\\n",
       "0        'Seabase' - Marine environmental monitoring data   \n",
       "\n",
       "To_name  AIMS                   \\\n",
       "0                          NaN   \n",
       "\n",
       "To_name  ARC Centre of Excellence for Coral Reef Studies, James Cook University                   \\\n",
       "0                                                      NaN                                         \n",
       "\n",
       "To_name  Airborne Research Australia (ARA)                   \\\n",
       "0                                                      NaN    \n",
       "\n",
       "To_name  Alpine Shire Council                   \\\n",
       "0                                          NaN   \n",
       "\n",
       "To_name  Antarctic Climate and Ecosystems Cooperative Research Centre                   \\\n",
       "0                                                      NaN                               \n",
       "\n",
       "To_name  Apache Energy - GIS Department                   \\\n",
       "0                                                    NaN   \n",
       "\n",
       "To_name  Arts Victoria                   \\\n",
       "0                                   NaN   \n",
       "\n",
       "To_name  Attorney General's Department                   \\\n",
       "0                                                   NaN   \n",
       "\n",
       "To_name  Ausgrid                              ...              \\\n",
       "0                             NaN             ...               \n",
       "\n",
       "To_name  Yarriambiack Shire Council                   \\\n",
       "0                                                NaN   \n",
       "\n",
       "To_name  er:MiningFeatureOccurrence  mrtwfs:Boreholes  mrtwfs:DamagePoint  \\\n",
       "0                               NaN               NaN                 NaN   \n",
       "\n",
       "To_name  mrtwfs:GravityBaseStations  mrtwfs:LandSlidePoint  \\\n",
       "0                               NaN                    NaN   \n",
       "\n",
       "To_name  mrtwfs:LicenceCategory3  mrtwfs:LicenceCategory4  \\\n",
       "0                            NaN                      NaN   \n",
       "\n",
       "To_name  mrtwfs:MineralOccurences  mrtwfs:ProclaimedAreasPoly  \n",
       "0                             NaN                         NaN  \n",
       "\n",
       "[1 rows x 319 columns]"
      ]
     },
     "execution_count": 47,
     "metadata": {},
     "output_type": "execute_result"
    }
   ],
   "source": [
    "print('pivot table of publishers and title')\n",
    "pub_count_df = clean_df[clean_df['Link_type']=='Publisher/Agency'].groupby(['From_name','To_name']).count().reset_index().drop(['From_ID','To_ID'],axis=1)\n",
    "pub_count_pivot_df = pd.pivot_table(pub_count_df, values='Link_type', index='From_name', columns='To_name').reset_index()\n",
    "pub_count_pivot_df.head(1)"
   ]
  },
  {
   "cell_type": "markdown",
   "metadata": {},
   "source": [
    "### Tags"
   ]
  },
  {
   "cell_type": "code",
   "execution_count": 104,
   "metadata": {
    "hide_input": false,
    "scrolled": true
   },
   "outputs": [
    {
     "name": "stdout",
     "output_type": "stream",
     "text": [
      "Most frequent tags\n"
     ]
    },
    {
     "data": {
      "text/html": [
       "<div>\n",
       "<style scoped>\n",
       "    .dataframe tbody tr th:only-of-type {\n",
       "        vertical-align: middle;\n",
       "    }\n",
       "\n",
       "    .dataframe tbody tr th {\n",
       "        vertical-align: top;\n",
       "    }\n",
       "\n",
       "    .dataframe thead th {\n",
       "        text-align: right;\n",
       "    }\n",
       "</style>\n",
       "<table border=\"1\" class=\"dataframe\">\n",
       "  <thead>\n",
       "    <tr style=\"text-align: right;\">\n",
       "      <th></th>\n",
       "      <th>index</th>\n",
       "      <th>To_name</th>\n",
       "      <th>To_ID</th>\n",
       "      <th>perc</th>\n",
       "    </tr>\n",
       "  </thead>\n",
       "  <tbody>\n",
       "    <tr>\n",
       "      <th>0</th>\n",
       "      <td>2424</td>\n",
       "      <td>Earth Sciences</td>\n",
       "      <td>10363</td>\n",
       "      <td>7.027049</td>\n",
       "    </tr>\n",
       "    <tr>\n",
       "      <th>1</th>\n",
       "      <td>2850</td>\n",
       "      <td>GA Publication</td>\n",
       "      <td>9148</td>\n",
       "      <td>6.203169</td>\n",
       "    </tr>\n",
       "    <tr>\n",
       "      <th>2</th>\n",
       "      <td>5373</td>\n",
       "      <td>Record</td>\n",
       "      <td>6407</td>\n",
       "      <td>4.344524</td>\n",
       "    </tr>\n",
       "    <tr>\n",
       "      <th>3</th>\n",
       "      <td>355</td>\n",
       "      <td>AU</td>\n",
       "      <td>2791</td>\n",
       "      <td>1.892550</td>\n",
       "    </tr>\n",
       "    <tr>\n",
       "      <th>4</th>\n",
       "      <td>7769</td>\n",
       "      <td>dataset</td>\n",
       "      <td>2259</td>\n",
       "      <td>1.531806</td>\n",
       "    </tr>\n",
       "    <tr>\n",
       "      <th>5</th>\n",
       "      <td>4487</td>\n",
       "      <td>Oceans</td>\n",
       "      <td>2105</td>\n",
       "      <td>1.427380</td>\n",
       "    </tr>\n",
       "    <tr>\n",
       "      <th>6</th>\n",
       "      <td>8243</td>\n",
       "      <td>geology</td>\n",
       "      <td>1870</td>\n",
       "      <td>1.268029</td>\n",
       "    </tr>\n",
       "    <tr>\n",
       "      <th>7</th>\n",
       "      <td>6493</td>\n",
       "      <td>Topology</td>\n",
       "      <td>1833</td>\n",
       "      <td>1.242939</td>\n",
       "    </tr>\n",
       "    <tr>\n",
       "      <th>8</th>\n",
       "      <td>6491</td>\n",
       "      <td>Topographic Map</td>\n",
       "      <td>1825</td>\n",
       "      <td>1.237515</td>\n",
       "    </tr>\n",
       "    <tr>\n",
       "      <th>9</th>\n",
       "      <td>366</td>\n",
       "      <td>AU-WA</td>\n",
       "      <td>1743</td>\n",
       "      <td>1.181911</td>\n",
       "    </tr>\n",
       "    <tr>\n",
       "      <th>10</th>\n",
       "      <td>361</td>\n",
       "      <td>AU-NT</td>\n",
       "      <td>1681</td>\n",
       "      <td>1.139870</td>\n",
       "    </tr>\n",
       "    <tr>\n",
       "      <th>11</th>\n",
       "      <td>8233</td>\n",
       "      <td>geodesy</td>\n",
       "      <td>1627</td>\n",
       "      <td>1.103253</td>\n",
       "    </tr>\n",
       "    <tr>\n",
       "      <th>12</th>\n",
       "      <td>362</td>\n",
       "      <td>AU-QLD</td>\n",
       "      <td>1626</td>\n",
       "      <td>1.102575</td>\n",
       "    </tr>\n",
       "    <tr>\n",
       "      <th>13</th>\n",
       "      <td>2974</td>\n",
       "      <td>Geodesy</td>\n",
       "      <td>1566</td>\n",
       "      <td>1.061889</td>\n",
       "    </tr>\n",
       "    <tr>\n",
       "      <th>14</th>\n",
       "      <td>2975</td>\n",
       "      <td>Geodetic Data</td>\n",
       "      <td>1566</td>\n",
       "      <td>1.061889</td>\n",
       "    </tr>\n",
       "    <tr>\n",
       "      <th>15</th>\n",
       "      <td>370</td>\n",
       "      <td>AUSGeoid98</td>\n",
       "      <td>1551</td>\n",
       "      <td>1.051718</td>\n",
       "    </tr>\n",
       "    <tr>\n",
       "      <th>16</th>\n",
       "      <td>4477</td>\n",
       "      <td>Ocean Temperature</td>\n",
       "      <td>1320</td>\n",
       "      <td>0.895079</td>\n",
       "    </tr>\n",
       "    <tr>\n",
       "      <th>17</th>\n",
       "      <td>8248</td>\n",
       "      <td>geophysics</td>\n",
       "      <td>1270</td>\n",
       "      <td>0.861175</td>\n",
       "    </tr>\n",
       "    <tr>\n",
       "      <th>18</th>\n",
       "      <td>19</td>\n",
       "      <td>100K unpublished</td>\n",
       "      <td>1252</td>\n",
       "      <td>0.848969</td>\n",
       "    </tr>\n",
       "    <tr>\n",
       "      <th>19</th>\n",
       "      <td>10040</td>\n",
       "      <td>topography</td>\n",
       "      <td>1227</td>\n",
       "      <td>0.832017</td>\n",
       "    </tr>\n",
       "  </tbody>\n",
       "</table>\n",
       "</div>"
      ],
      "text/plain": [
       "    index            To_name  To_ID      perc\n",
       "0    2424     Earth Sciences  10363  7.027049\n",
       "1    2850     GA Publication   9148  6.203169\n",
       "2    5373             Record   6407  4.344524\n",
       "3     355                 AU   2791  1.892550\n",
       "4    7769            dataset   2259  1.531806\n",
       "5    4487             Oceans   2105  1.427380\n",
       "6    8243            geology   1870  1.268029\n",
       "7    6493           Topology   1833  1.242939\n",
       "8    6491    Topographic Map   1825  1.237515\n",
       "9     366              AU-WA   1743  1.181911\n",
       "10    361              AU-NT   1681  1.139870\n",
       "11   8233            geodesy   1627  1.103253\n",
       "12    362             AU-QLD   1626  1.102575\n",
       "13   2974            Geodesy   1566  1.061889\n",
       "14   2975      Geodetic Data   1566  1.061889\n",
       "15    370         AUSGeoid98   1551  1.051718\n",
       "16   4477  Ocean Temperature   1320  0.895079\n",
       "17   8248         geophysics   1270  0.861175\n",
       "18     19   100K unpublished   1252  0.848969\n",
       "19  10040         topography   1227  0.832017"
      ]
     },
     "execution_count": 104,
     "metadata": {},
     "output_type": "execute_result"
    }
   ],
   "source": [
    "print('Most frequent tags')\n",
    "tags_df = clean_df[clean_df['Link_type']=='Tag'].groupby('To_name').count().reset_index()[['To_name','To_ID']].sort_values('To_ID',ascending=False)\n",
    "tags_df['perc'] = tags_df['To_ID'].map(lambda x: 100 * x / tags_df['To_ID'].sum())\n",
    "tags_df = tags_df.reset_index()\n",
    "tags_df.head(20)"
   ]
  },
  {
   "cell_type": "code",
   "execution_count": 105,
   "metadata": {
    "hide_input": true
   },
   "outputs": [
    {
     "name": "stdout",
     "output_type": "stream",
     "text": [
      "Number of unique tags: 9354\n"
     ]
    }
   ],
   "source": [
    "# of different tags\n",
    "df = clean_df[clean_df['Link_type']=='Tag'].groupby(['From_name','To_name']).count().reset_index()\n",
    "clean_tag_df = df[df['To_name'].str.contains(\"%\") == False]\n",
    "uni_tags = clean_tag_df['To_name'].nunique()\n",
    "uni_df.loc['count','Tags'] = uni_tags\n",
    "uni_df.loc['top','Tags'] = np.nan\n",
    "print('Number of unique tags: {}'.format(uni_tags))"
   ]
  },
  {
   "cell_type": "code",
   "execution_count": 50,
   "metadata": {
    "hide_input": false,
    "scrolled": true
   },
   "outputs": [
    {
     "name": "stdout",
     "output_type": "stream",
     "text": [
      "pivot table of tags and title\n"
     ]
    },
    {
     "data": {
      "text/html": [
       "<div>\n",
       "<style scoped>\n",
       "    .dataframe tbody tr th:only-of-type {\n",
       "        vertical-align: middle;\n",
       "    }\n",
       "\n",
       "    .dataframe tbody tr th {\n",
       "        vertical-align: top;\n",
       "    }\n",
       "\n",
       "    .dataframe thead th {\n",
       "        text-align: right;\n",
       "    }\n",
       "</style>\n",
       "<table border=\"1\" class=\"dataframe\">\n",
       "  <thead>\n",
       "    <tr style=\"text-align: right;\">\n",
       "      <th>To_name</th>\n",
       "      <th>From_name</th>\n",
       "      <th>version=3.2&amp;version=1.1.0</th>\n",
       "      <th>-</th>\n",
       "      <th>1 Second</th>\n",
       "      <th>1 meter contour</th>\n",
       "      <th>10 000000</th>\n",
       "      <th>10 099000</th>\n",
       "      <th>10004004</th>\n",
       "      <th>100K scale</th>\n",
       "      <th>100K unpublished</th>\n",
       "      <th>...</th>\n",
       "      <th>youth</th>\n",
       "      <th>youth allowance</th>\n",
       "      <th>youth justice</th>\n",
       "      <th>youth unemployment rate</th>\n",
       "      <th>zinc</th>\n",
       "      <th>zone</th>\n",
       "      <th>zones</th>\n",
       "      <th>zoning</th>\n",
       "      <th>zoo</th>\n",
       "      <th>zooplankton</th>\n",
       "    </tr>\n",
       "  </thead>\n",
       "  <tbody>\n",
       "    <tr>\n",
       "      <th>0</th>\n",
       "      <td>'Seabase' - Marine environmental monitoring data</td>\n",
       "      <td>NaN</td>\n",
       "      <td>NaN</td>\n",
       "      <td>NaN</td>\n",
       "      <td>NaN</td>\n",
       "      <td>NaN</td>\n",
       "      <td>NaN</td>\n",
       "      <td>NaN</td>\n",
       "      <td>NaN</td>\n",
       "      <td>NaN</td>\n",
       "      <td>...</td>\n",
       "      <td>NaN</td>\n",
       "      <td>NaN</td>\n",
       "      <td>NaN</td>\n",
       "      <td>NaN</td>\n",
       "      <td>NaN</td>\n",
       "      <td>NaN</td>\n",
       "      <td>NaN</td>\n",
       "      <td>NaN</td>\n",
       "      <td>NaN</td>\n",
       "      <td>NaN</td>\n",
       "    </tr>\n",
       "  </tbody>\n",
       "</table>\n",
       "<p>1 rows × 9355 columns</p>\n",
       "</div>"
      ],
      "text/plain": [
       "To_name                                         From_name  \\\n",
       "0        'Seabase' - Marine environmental monitoring data   \n",
       "\n",
       "To_name   version=3.2&version=1.1.0   -  1 Second  1 meter contour  10 000000  \\\n",
       "0                               NaN NaN       NaN              NaN        NaN   \n",
       "\n",
       "To_name  10 099000  10004004  100K scale  100K unpublished     ...       \\\n",
       "0              NaN       NaN         NaN               NaN     ...        \n",
       "\n",
       "To_name  youth  youth allowance  youth justice  youth unemployment rate  zinc  \\\n",
       "0          NaN              NaN            NaN                      NaN   NaN   \n",
       "\n",
       "To_name  zone  zones  zoning  zoo  zooplankton  \n",
       "0         NaN    NaN     NaN  NaN          NaN  \n",
       "\n",
       "[1 rows x 9355 columns]"
      ]
     },
     "execution_count": 50,
     "metadata": {},
     "output_type": "execute_result"
    }
   ],
   "source": [
    "print('pivot table of tags and title')\n",
    "tag_count_df = clean_tag_df.drop(['From_ID','To_ID'],axis=1)\n",
    "tag_count_pivot_df = pd.pivot_table(tag_count_df, values='Link_type', index='From_name', columns='To_name').reset_index()\n",
    "\n",
    "tag_count_pivot_df.head(1)"
   ]
  },
  {
   "cell_type": "code",
   "execution_count": 111,
   "metadata": {
    "hide_input": true
   },
   "outputs": [
    {
     "data": {
      "text/html": [
       "<div>\n",
       "<style scoped>\n",
       "    .dataframe tbody tr th:only-of-type {\n",
       "        vertical-align: middle;\n",
       "    }\n",
       "\n",
       "    .dataframe tbody tr th {\n",
       "        vertical-align: top;\n",
       "    }\n",
       "\n",
       "    .dataframe thead th {\n",
       "        text-align: right;\n",
       "    }\n",
       "</style>\n",
       "<table border=\"1\" class=\"dataframe\">\n",
       "  <thead>\n",
       "    <tr style=\"text-align: right;\">\n",
       "      <th></th>\n",
       "      <th>count</th>\n",
       "      <th>top</th>\n",
       "    </tr>\n",
       "  </thead>\n",
       "  <tbody>\n",
       "    <tr>\n",
       "      <th>Jurisdiction</th>\n",
       "      <td>53.0</td>\n",
       "      <td>1.0</td>\n",
       "    </tr>\n",
       "    <tr>\n",
       "      <th>Data_portal</th>\n",
       "      <td>16.0</td>\n",
       "      <td>4.0</td>\n",
       "    </tr>\n",
       "    <tr>\n",
       "      <th>Resources</th>\n",
       "      <td>62.0</td>\n",
       "      <td>10.0</td>\n",
       "    </tr>\n",
       "    <tr>\n",
       "      <th>Publisher</th>\n",
       "      <td>318.0</td>\n",
       "      <td>20.0</td>\n",
       "    </tr>\n",
       "    <tr>\n",
       "      <th>Tags</th>\n",
       "      <td>9354.0</td>\n",
       "      <td>NaN</td>\n",
       "    </tr>\n",
       "  </tbody>\n",
       "</table>\n",
       "</div>"
      ],
      "text/plain": [
       "               count   top\n",
       "Jurisdiction    53.0   1.0\n",
       "Data_portal     16.0   4.0\n",
       "Resources       62.0  10.0\n",
       "Publisher      318.0  20.0\n",
       "Tags          9354.0   NaN"
      ]
     },
     "execution_count": 111,
     "metadata": {},
     "output_type": "execute_result"
    }
   ],
   "source": [
    "uni_df.loc['count','Resources'] = uni_res\n",
    "uni_df.loc['top','Resources'] = top_res\n",
    "uni_df.T.head().sort_values('top')"
   ]
  },
  {
   "cell_type": "markdown",
   "metadata": {},
   "source": [
    "## Top 200 selection"
   ]
  },
  {
   "cell_type": "markdown",
   "metadata": {
    "heading_collapsed": true
   },
   "source": [
    "### Filter data"
   ]
  },
  {
   "cell_type": "code",
   "execution_count": 257,
   "metadata": {
    "hidden": true
   },
   "outputs": [],
   "source": [
    "# select top Jursidiction \n",
    "# Titles listed in Top Jurisdiction category\n",
    "top_jur = clean_df[clean_df['To_name']==jurs_df.head(1)['To_name'][0]][['From_name','To_name','Link_type']]"
   ]
  },
  {
   "cell_type": "code",
   "execution_count": 256,
   "metadata": {
    "hidden": true
   },
   "outputs": [],
   "source": [
    "# Select top data portals\n",
    "port_list = [x for x in portals_df.head(10)['To_name']]\n",
    "# Titles listed in Top 10 Data portal category\n",
    "top_port = clean_df[clean_df['To_name'].isin(port_list)][['From_name','To_name','Link_type']]\n",
    "\n",
    "#clean_df[clean_df['Link_type']=='Data portal'].shape"
   ]
  },
  {
   "cell_type": "code",
   "execution_count": 255,
   "metadata": {
    "hidden": true
   },
   "outputs": [],
   "source": [
    "# Select top \n",
    "pubs_list = [x for x in pubs_df.head(20)['To_name']]\n",
    "# Titles listed in Top 20 Publisher category\n",
    "top_pubs = clean_df[clean_df['To_name'].isin(pubs_list)][['From_name','To_name','Link_type']]\n",
    "\n",
    "#clean_df[clean_df['Link_type']=='Publisher/Agency'].shape"
   ]
  },
  {
   "cell_type": "code",
   "execution_count": 252,
   "metadata": {
    "hidden": true
   },
   "outputs": [],
   "source": [
    "res_list = [x for x in res_totals_df.index[:10]]\n",
    "# Titles listed in Top 10 Resources category\n",
    "top_res = clean_df[clean_df['To_name'].isin(res_list)][['From_name','To_name','Link_type']]\n",
    "\n",
    "#clean_df[clean_df['Link_type']=='Resource'].shape"
   ]
  },
  {
   "cell_type": "code",
   "execution_count": 270,
   "metadata": {
    "hidden": true
   },
   "outputs": [],
   "source": [
    "# create merged df\n",
    "merged_df = top_pubs.merge(top_res,on='From_name', suffixes=('_pubs','_res')).merge(top_jur, on='From_name').merge(top_port, on='From_name')\n",
    "merged_df = merged_df[['From_name','To_name_pubs','To_name_res','To_name_x','To_name_y']]\n",
    "merged_df.rename(columns={'From_name':'Title','To_name_pubs':'Publisher',\n",
    "                          'To_name_res':'Resource','To_name_x':'Jurisdiction',\n",
    "                          'To_name_y':'Portal'}, inplace=True)"
   ]
  },
  {
   "cell_type": "code",
   "execution_count": 299,
   "metadata": {
    "hidden": true
   },
   "outputs": [
    {
     "name": "stdout",
     "output_type": "stream",
     "text": [
      "Total entries: 29895\n",
      "Total entries - after clean: 19761\n"
     ]
    }
   ],
   "source": [
    "print('Total entries: {}'.format(merged_df.shape[0]))\n",
    "#merged_df[merged_df[['Title']].duplicated('Title')]\n",
    "\n",
    "# drop duplicates\n",
    "clean_merged_df = merged_df.drop_duplicates('Title')\n",
    "print('Total entries - after clean: {}'.format(clean_merged_df.shape[0]))"
   ]
  },
  {
   "cell_type": "markdown",
   "metadata": {},
   "source": [
    "### Select titles"
   ]
  },
  {
   "cell_type": "code",
   "execution_count": 300,
   "metadata": {},
   "outputs": [],
   "source": [
    "import random"
   ]
  },
  {
   "cell_type": "code",
   "execution_count": 322,
   "metadata": {},
   "outputs": [],
   "source": [
    "#random.randint(0,clean_merged_df.shape[0])"
   ]
  },
  {
   "cell_type": "code",
   "execution_count": 334,
   "metadata": {},
   "outputs": [
    {
     "name": "stdout",
     "output_type": "stream",
     "text": [
      "Random selection made\n",
      "200 selections\n"
     ]
    }
   ],
   "source": [
    "selection = 200\n",
    "\n",
    "sel_list = []\n",
    "for x in range(0,selection):\n",
    "    numb = random.randint(0,clean_merged_df.shape[0])\n",
    "    if numb not in sel_list:\n",
    "        sel_list.append(numb)\n",
    "    else:\n",
    "        numb = random.randint(0,clean_merged_df.shape[0])\n",
    "        if numb not in sel_list:\n",
    "            sel_list.append(numb)\n",
    "print('Random selection made') \n",
    "print('{} selections'.format(len(sel_list)))  #sel_list"
   ]
  },
  {
   "cell_type": "code",
   "execution_count": 320,
   "metadata": {},
   "outputs": [
    {
     "name": "stdout",
     "output_type": "stream",
     "text": [
      "Are there duplicates in this list?\n",
      "False\n"
     ]
    }
   ],
   "source": [
    "# Check for duplicates in list\n",
    "print('Are there duplicates in this list?\\n{}'.format(len(sel_list) != len(set(sel_list))))"
   ]
  },
  {
   "cell_type": "code",
   "execution_count": 346,
   "metadata": {},
   "outputs": [
    {
     "data": {
      "text/html": [
       "<div>\n",
       "<style scoped>\n",
       "    .dataframe tbody tr th:only-of-type {\n",
       "        vertical-align: middle;\n",
       "    }\n",
       "\n",
       "    .dataframe tbody tr th {\n",
       "        vertical-align: top;\n",
       "    }\n",
       "\n",
       "    .dataframe thead th {\n",
       "        text-align: right;\n",
       "    }\n",
       "</style>\n",
       "<table border=\"1\" class=\"dataframe\">\n",
       "  <thead>\n",
       "    <tr style=\"text-align: right;\">\n",
       "      <th></th>\n",
       "      <th>Title</th>\n",
       "      <th>Publisher</th>\n",
       "      <th>Resource</th>\n",
       "      <th>Jurisdiction</th>\n",
       "      <th>Portal</th>\n",
       "    </tr>\n",
       "  </thead>\n",
       "  <tbody>\n",
       "    <tr>\n",
       "      <th>27099</th>\n",
       "      <td>BRUVS (TM) - Fish and Benthic survey of Inshor...</td>\n",
       "      <td>Australian Institute of Marine Science        ...</td>\n",
       "      <td>HTML</td>\n",
       "      <td>Commonwealth of Australia</td>\n",
       "      <td>Australian Institute of Marine Science CSW Ha...</td>\n",
       "    </tr>\n",
       "    <tr>\n",
       "      <th>18254</th>\n",
       "      <td>Progress report on the geology of the Huckitta...</td>\n",
       "      <td>Geoscience Australia</td>\n",
       "      <td>PDF</td>\n",
       "      <td>Commonwealth of Australia</td>\n",
       "      <td>Geoscience Australia CSW Harvester</td>\n",
       "    </tr>\n",
       "    <tr>\n",
       "      <th>14616</th>\n",
       "      <td>The Veevers Crater: a possible meteoritic feature</td>\n",
       "      <td>Geoscience Australia</td>\n",
       "      <td>PDF</td>\n",
       "      <td>Commonwealth of Australia</td>\n",
       "      <td>Geoscience Australia CSW Harvester</td>\n",
       "    </tr>\n",
       "    <tr>\n",
       "      <th>17928</th>\n",
       "      <td>Geophysical Branch summary of activities, 1978</td>\n",
       "      <td>Geoscience Australia</td>\n",
       "      <td>PDF</td>\n",
       "      <td>Commonwealth of Australia</td>\n",
       "      <td>Geoscience Australia CSW Harvester</td>\n",
       "    </tr>\n",
       "    <tr>\n",
       "      <th>28359</th>\n",
       "      <td>AIMS Long-term Monitoring Program</td>\n",
       "      <td>Australian Institute of Marine Science        ...</td>\n",
       "      <td>HTML</td>\n",
       "      <td>Commonwealth of Australia</td>\n",
       "      <td>Australian Institute of Marine Science CSW Ha...</td>\n",
       "    </tr>\n",
       "  </tbody>\n",
       "</table>\n",
       "</div>"
      ],
      "text/plain": [
       "                                                   Title  \\\n",
       "27099  BRUVS (TM) - Fish and Benthic survey of Inshor...   \n",
       "18254  Progress report on the geology of the Huckitta...   \n",
       "14616  The Veevers Crater: a possible meteoritic feature   \n",
       "17928     Geophysical Branch summary of activities, 1978   \n",
       "28359                  AIMS Long-term Monitoring Program   \n",
       "\n",
       "                                               Publisher Resource  \\\n",
       "27099  Australian Institute of Marine Science        ...     HTML   \n",
       "18254              Geoscience Australia                       PDF   \n",
       "14616              Geoscience Australia                       PDF   \n",
       "17928              Geoscience Australia                       PDF   \n",
       "28359  Australian Institute of Marine Science        ...     HTML   \n",
       "\n",
       "                     Jurisdiction  \\\n",
       "27099   Commonwealth of Australia   \n",
       "18254   Commonwealth of Australia   \n",
       "14616   Commonwealth of Australia   \n",
       "17928   Commonwealth of Australia   \n",
       "28359   Commonwealth of Australia   \n",
       "\n",
       "                                                  Portal  \n",
       "27099   Australian Institute of Marine Science CSW Ha...  \n",
       "18254                 Geoscience Australia CSW Harvester  \n",
       "14616                 Geoscience Australia CSW Harvester  \n",
       "17928                 Geoscience Australia CSW Harvester  \n",
       "28359   Australian Institute of Marine Science CSW Ha...  "
      ]
     },
     "execution_count": 346,
     "metadata": {},
     "output_type": "execute_result"
    }
   ],
   "source": [
    "# dataframe of final selection with random variables\n",
    "final_df = clean_merged_df.iloc[sel_list]\n",
    "final_df.head()"
   ]
  },
  {
   "cell_type": "code",
   "execution_count": 348,
   "metadata": {},
   "outputs": [],
   "source": [
    "# Save to csv\n",
    "final_df.to_csv('Final_selection.csv')"
   ]
  }
 ],
 "metadata": {
  "hide_input": true,
  "kernelspec": {
   "display_name": "Python 3",
   "language": "python",
   "name": "python3"
  },
  "language_info": {
   "codemirror_mode": {
    "name": "ipython",
    "version": 3
   },
   "file_extension": ".py",
   "mimetype": "text/x-python",
   "name": "python",
   "nbconvert_exporter": "python",
   "pygments_lexer": "ipython3",
   "version": "3.6.5"
  },
  "toc": {
   "base_numbering": 1,
   "nav_menu": {},
   "number_sections": false,
   "sideBar": true,
   "skip_h1_title": false,
   "title_cell": "Table of Contents",
   "title_sidebar": "Contents",
   "toc_cell": false,
   "toc_position": {
    "height": "calc(100% - 180px)",
    "left": "10px",
    "top": "150px",
    "width": "240px"
   },
   "toc_section_display": true,
   "toc_window_display": true
  }
 },
 "nbformat": 4,
 "nbformat_minor": 2
}
